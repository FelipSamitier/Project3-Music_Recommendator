{
 "cells": [
  {
   "cell_type": "markdown",
   "metadata": {
    "heading_collapsed": true
   },
   "source": [
    "# All Imports"
   ]
  },
  {
   "cell_type": "code",
   "execution_count": 1,
   "metadata": {
    "hidden": true
   },
   "outputs": [],
   "source": [
    "import requests\n",
    "from bs4 import BeautifulSoup\n",
    "import pandas as pd\n",
    "import random\n",
    "import numpy\n",
    "import random\n",
    "from sklearn import datasets\n",
    "from sklearn.preprocessing import StandardScaler\n",
    "from sklearn.cluster import KMeans\n",
    "import pickle\n",
    "import spotipy\n",
    "from spotipy.oauth2 import SpotifyClientCredentials\n",
    "\n",
    "sp = spotipy.Spotify(auth_manager=SpotifyClientCredentials(\n",
    "    client_id=\"407ecce27e2941debf00e6aa6d1df04a\",\n",
    "    client_secret=\"f5699c96ab93485ab9e9732d8dd5bd26\"))"
   ]
  },
  {
   "cell_type": "markdown",
   "metadata": {
    "heading_collapsed": true
   },
   "source": [
    "# All Data"
   ]
  },
  {
   "cell_type": "code",
   "execution_count": 2,
   "metadata": {
    "hidden": true
   },
   "outputs": [],
   "source": [
    "data_all_songs_all = pd.read_csv(\"./data/df_all_songs_all.csv\")\n",
    "data_with_clusters = pd.read_csv(\"./data/data_with_clusters.csv\")\n",
    "df_top100 = pd.read_csv(\"./data/df_top100.csv\")\n",
    "song_artist_url = pd.read_csv(\"./data/song_artist_url.csv\")\n",
    "data_only_features = pd.read_csv(\"./data/data_only_features.csv\")"
   ]
  },
  {
   "cell_type": "markdown",
   "metadata": {
    "heading_collapsed": true
   },
   "source": [
    "# Variables"
   ]
  },
  {
   "cell_type": "code",
   "execution_count": 3,
   "metadata": {
    "hidden": true
   },
   "outputs": [],
   "source": [
    "url = \"https://www.billboard.com/charts/hot-100\"\n",
    "\n",
    "response = requests.get(url)\n",
    "\n",
    "soup = BeautifulSoup(response.content, \"html.parser\")\n",
    "\n",
    "canço = soup.select(\"span.chart-element__information__song.text--truncate.color--primary\")\n",
    "cantant = soup.select(\"span.chart-element__information__artist.text--truncate.color--secondary\")\n",
    "\n",
    "\n",
    "songs = []\n",
    "artist = []\n",
    "\n",
    "for i in canço:\n",
    "    songs.append(i.get_text())\n",
    "    \n",
    "for i in cantant:\n",
    "    artist.append(i.get_text())\n",
    "    \n",
    "top100_dict = {\n",
    "    \"Artist\": artist,\n",
    "    \"Song\": songs,   \n",
    "}"
   ]
  },
  {
   "cell_type": "markdown",
   "metadata": {
    "heading_collapsed": true
   },
   "source": [
    "# All Functions"
   ]
  },
  {
   "cell_type": "code",
   "execution_count": 4,
   "metadata": {
    "hidden": true
   },
   "outputs": [],
   "source": [
    "def ask_top100(user_song):\n",
    "    \n",
    "    \"\"\"\n",
    "    Input: Take User Input and compare with dictonary top100_dict.\n",
    "    \n",
    "    Output: if User Input is in top100_dict, x = 0 and print other song the top100_dict, else x = 1\n",
    "    \n",
    "    \"\"\"\n",
    "    \n",
    "    if user_song in top100_dict[\"Song\"]:\n",
    "        \n",
    "        print(\"This song is in Top 100! You might like it: \" + top100_dict[\"Song\"][random.randint(0,len(top100_dict[\"Song\"])-1)])\n",
    "        x = 0\n",
    "    else:\n",
    "        \n",
    "        print(\"This song isn't in Top 100\")\n",
    "        x = 1\n",
    "        \n",
    "    return x"
   ]
  },
  {
   "cell_type": "code",
   "execution_count": 5,
   "metadata": {
    "hidden": true
   },
   "outputs": [],
   "source": [
    "def ask_again():\n",
    "    \n",
    "    \"\"\"\n",
    "    Input: -\n",
    "    \n",
    "    Function: Ask to User if want put other song\n",
    "    \n",
    "    Output: - \n",
    "    \n",
    "    \n",
    "    \"\"\"\n",
    "    another_song = input(\"\\nDo you want to put another song? ([Y] = yes, [N] = no): \").lower()\n",
    "    if another_song == \"y\":\n",
    "        print(\"\\n---------------------------------\")\n",
    "        main()\n",
    "    elif another_song != \"y\" and another_song != \"n\":\n",
    "        print(\"\\nI'm not understanding you.\")\n",
    "        ask_again()\n",
    "    else:\n",
    "        print(\"\\nGood Bye!\")\n",
    "    \n",
    "    return"
   ]
  },
  {
   "cell_type": "code",
   "execution_count": 6,
   "metadata": {
    "hidden": true
   },
   "outputs": [],
   "source": [
    "def get_features_song_user(user_song):\n",
    "    \n",
    "    \"\"\"\n",
    "    Input: Take User Input\n",
    "    \n",
    "    Output: Extract some values of User Input\n",
    "    \n",
    "    \"\"\"\n",
    "    \n",
    "    song = sp.search(user_song)\n",
    "    \n",
    "    user_song_uri = song[\"tracks\"][\"items\"][0][\"uri\"]\n",
    "    \n",
    "    user_song_features = sp.audio_features(user_song_uri)[0]\n",
    "    \n",
    "    return pd.DataFrame({\"danceability\" : user_song_features[\"danceability\"],\n",
    "                        \"energy\" : user_song_features[\"energy\"],\n",
    "                        \"loudness\": user_song_features[\"loudness\"],\n",
    "                        \"speechiness\": user_song_features[\"speechiness\"],\n",
    "                        \"acousticness\": user_song_features[\"acousticness\"],\n",
    "                        \"instrumentalness\": user_song_features[\"instrumentalness\"],\n",
    "                        \"valence\": user_song_features[\"valence\"],\n",
    "                        \"tempo\":user_song_features[\"tempo\"]},index = [0])"
   ]
  },
  {
   "cell_type": "code",
   "execution_count": 7,
   "metadata": {
    "hidden": true
   },
   "outputs": [],
   "source": [
    "def get_song_recomend_api(user_song):\n",
    "    \n",
    "    \"\"\"\n",
    "    Input: Take User Input\n",
    "    \n",
    "    Function: Calculate the Cluster of song (user input)\n",
    "    \n",
    "    Output: Extract other song with same value cluster\n",
    "    \n",
    "    \"\"\"\n",
    "    \n",
    "    scaler_1 = pickle.load(open(\"scaler_1.pkl\",\"rb\"))\n",
    "    m_pred = pickle.load(open(\"KMeans_1.pkl\",\"rb\"))\n",
    "    \n",
    "    song = get_features_song_user(user_song)\n",
    "    song_scaler = scaler_1.transform(song)\n",
    "    \n",
    "    clust_pred = m_pred.predict(song_scaler)\n",
    "    \n",
    "    filter_clust = data_with_clusters[\"clusters\"] == clust_pred[0]\n",
    "    \n",
    "    data_with_clusters_filter = data_with_clusters[filter_clust]\n",
    "    \n",
    "    song_recomend = data_with_clusters_filter.sample()\n",
    "    \n",
    "    song_recomend.drop(columns = [\"uri\",\"danceability\",\"energy\",\"loudness\",\"speechiness\",\"acousticness\",\n",
    "                                  \"instrumentalness\",\"valence\",\"clusters\"])\n",
    "    \n",
    "    return print(\"Puede que te guste: \" + str(list(song_recomend[\"songs\"]))), print(\"Artist: \" + str(list(song_recomend[\"artists\"])))"
   ]
  },
  {
   "cell_type": "code",
   "execution_count": 8,
   "metadata": {
    "hidden": true
   },
   "outputs": [],
   "source": [
    "def get_song_recomend_api_lie(user_song,clust):\n",
    "    \n",
    "    \"\"\"\n",
    "    Input: User Input and cluster\n",
    "    \n",
    "    Function: Filter data with value clust\n",
    "    \n",
    "    Output: Extract one song with same value clust\n",
    "    \n",
    "    \"\"\"\n",
    "    \n",
    "    filter_clust = data_with_clusters[\"clusters\"] == clust\n",
    "    \n",
    "    data_with_clusters_filter = data_with_clusters[filter_clust]\n",
    "    \n",
    "    song_recomend = data_with_clusters_filter.sample()\n",
    "    \n",
    "    song_recomend.drop(columns = [\"uri\",\"danceability\",\"energy\",\"loudness\",\"speechiness\",\"acousticness\",\n",
    "                                  \"instrumentalness\",\"valence\",\"clusters\"])\n",
    "    \n",
    "    return print(\"I better recommend you: \" + str(list(song_recomend[\"songs\"]))), print(\"Artist: \" + str(list(song_recomend[\"artists\"])))"
   ]
  },
  {
   "cell_type": "code",
   "execution_count": 9,
   "metadata": {
    "hidden": true
   },
   "outputs": [],
   "source": [
    "def get_song_recomend_api_lie_walk():\n",
    "    \n",
    "    \n",
    "    \"\"\"\n",
    "    Input: -\n",
    "    \n",
    "    Function: Ask to user one input\n",
    "    \n",
    "    Output: return value y depending user input\n",
    "    \n",
    "    \"\"\"\n",
    "    \n",
    "    walk_for = input(\"\\nWalk where? ([J] = Job, [E] = Exam, [W] = Just Walk): \").lower()\n",
    "    \n",
    "    if walk_for == \"j\":\n",
    "        \n",
    "        print(\"To Job? ok.\")\n",
    "        y = 0\n",
    "\n",
    "    \n",
    "    elif walk_for == \"e\":\n",
    "        \n",
    "        print(\"To Exam? ok.\")\n",
    "        y = 1\n",
    "\n",
    "        \n",
    "    elif walk_for == \"w\":\n",
    "        \n",
    "        print(\"Just Walk? ok.\")\n",
    "        y = 2\n",
    "    \n",
    "    else:\n",
    "        print(\"Sorry i can't understanding you\")\n",
    "        get_song_recomend_api_lie_walk()\n",
    "    \n",
    "    return y"
   ]
  },
  {
   "cell_type": "code",
   "execution_count": 19,
   "metadata": {
    "hidden": true
   },
   "outputs": [],
   "source": [
    "def do():\n",
    "    \n",
    "    \"\"\"\n",
    "    Input: - \n",
    "    \n",
    "    Function: To ask user\n",
    "    \n",
    "    Output: return value x depending user input\n",
    "    \n",
    "    \"\"\"\n",
    "    \n",
    "    action = input(\"\\nWhat do you want this recommendation for? ([S] = Sport, [R] = Relax, [W] = Walk): \").lower()\n",
    "    \n",
    "    if action == \"s\":\n",
    "        \n",
    "        print(\"For Sport? ok.\")\n",
    "        z = 0\n",
    "    \n",
    "    elif action == \"r\":\n",
    "        \n",
    "        print(\"For Relax? ok.\")\n",
    "        z = 1\n",
    "        \n",
    "    elif action == \"w\":\n",
    "        \n",
    "        print(\"For Walk? ok.\")\n",
    "        z = 2\n",
    "    \n",
    "    else:\n",
    "        print(\"Sorry i can't understanding you\")\n",
    "        do()\n",
    "    return z\n",
    "    "
   ]
  },
  {
   "cell_type": "markdown",
   "metadata": {
    "heading_collapsed": true
   },
   "source": [
    "# Function Main"
   ]
  },
  {
   "cell_type": "code",
   "execution_count": 11,
   "metadata": {
    "hidden": true
   },
   "outputs": [],
   "source": [
    "def main():\n",
    "    \n",
    "    \"\"\"\n",
    "    Input: -\n",
    "    Function: Recommend one song to user depending conditions\n",
    "    Output: Song\n",
    "    \n",
    "    \"\"\"\n",
    "    \n",
    "    user_song = str(input(\"Posa una canço: \")).title()\n",
    "    \n",
    "    x = ask_top100(user_song)\n",
    "    \n",
    "    if x == 0:\n",
    "        \n",
    "        ask_again()\n",
    "        \n",
    "    else:\n",
    "        \n",
    "        get_song_recomend_api(user_song)\n",
    "        \n",
    "        x = do()\n",
    "        \n",
    "        if x == 0:\n",
    "            \n",
    "            clust = 0\n",
    "            get_song_recomend_api_lie(user_song,clust)\n",
    "            ask_again()\n",
    "            \n",
    "        elif x == 1:\n",
    "            \n",
    "            clust = 6\n",
    "            get_song_recomend_api_lie(user_song,clust)\n",
    "            ask_again()\n",
    "            \n",
    "        elif x == 2:\n",
    "            y = get_song_recomend_api_lie_walk()\n",
    "            \n",
    "            if y == 0:\n",
    "                \n",
    "                clust = 2\n",
    "                get_song_recomend_api_lie(user_song,clust)\n",
    "                ask_again()\n",
    "                \n",
    "            elif y == 1:\n",
    "                \n",
    "                clust = 0\n",
    "                get_song_recomend_api_lie(user_song,clust)\n",
    "                ask_again()\n",
    "                \n",
    "            elif y == 2:\n",
    "                \n",
    "                clust = 7\n",
    "                get_song_recomend_api_lie(user_song,clust)\n",
    "                ask_again()\n"
   ]
  },
  {
   "cell_type": "markdown",
   "metadata": {},
   "source": [
    "# Execute"
   ]
  },
  {
   "cell_type": "code",
   "execution_count": 23,
   "metadata": {},
   "outputs": [
    {
     "name": "stdout",
     "output_type": "stream",
     "text": [
      "Posa una canço: Stop\n",
      "This song isn't in Top 100\n",
      "Puede que te guste: ['T.N.T.']\n",
      "Artist: ['AC/DC']\n",
      "\n",
      "What do you want this recommendation for? ([S] = Sport, [R] = Relax, [W] = Walk): s\n",
      "For Sport? ok.\n",
      "I better recommend you: ['Sweet Home Alabama']\n",
      "Artist: ['Lynyrd Skynyrd']\n",
      "\n",
      "Do you want to put another song? ([Y] = yes, [N] = no): y\n",
      "\n",
      "---------------------------------\n",
      "Posa una canço: esbarzers\n",
      "This song isn't in Top 100\n",
      "Puede que te guste: ['Summertime Sadness (Acoustic Cover) feat. Keelan Donovan']\n",
      "Artist: ['Megan Davies']\n",
      "\n",
      "What do you want this recommendation for? ([S] = Sport, [R] = Relax, [W] = Walk): w\n",
      "For Walk? ok.\n",
      "\n",
      "Walk where? ([J] = Job, [E] = Exam, [W] = Just Walk): w\n",
      "Just Walk? ok.\n",
      "I better recommend you: ['Katedral Bat']\n",
      "Artist: ['Berri Txarrak']\n",
      "\n",
      "Do you want to put another song? ([Y] = yes, [N] = no): n\n",
      "\n",
      "Good Bye!\n"
     ]
    }
   ],
   "source": [
    "main()"
   ]
  },
  {
   "cell_type": "code",
   "execution_count": null,
   "metadata": {},
   "outputs": [],
   "source": []
  }
 ],
 "metadata": {
  "kernelspec": {
   "display_name": "Python 3",
   "language": "python",
   "name": "python3"
  },
  "language_info": {
   "codemirror_mode": {
    "name": "ipython",
    "version": 3
   },
   "file_extension": ".py",
   "mimetype": "text/x-python",
   "name": "python",
   "nbconvert_exporter": "python",
   "pygments_lexer": "ipython3",
   "version": "3.8.5"
  },
  "toc": {
   "base_numbering": 1,
   "nav_menu": {},
   "number_sections": true,
   "sideBar": true,
   "skip_h1_title": false,
   "title_cell": "Table of Contents",
   "title_sidebar": "Contents",
   "toc_cell": false,
   "toc_position": {},
   "toc_section_display": true,
   "toc_window_display": false
  },
  "varInspector": {
   "cols": {
    "lenName": 16,
    "lenType": 16,
    "lenVar": 40
   },
   "kernels_config": {
    "python": {
     "delete_cmd_postfix": "",
     "delete_cmd_prefix": "del ",
     "library": "var_list.py",
     "varRefreshCmd": "print(var_dic_list())"
    },
    "r": {
     "delete_cmd_postfix": ") ",
     "delete_cmd_prefix": "rm(",
     "library": "var_list.r",
     "varRefreshCmd": "cat(var_dic_list()) "
    }
   },
   "position": {
    "height": "457.727px",
    "left": "1375.45px",
    "right": "20px",
    "top": "120px",
    "width": "350px"
   },
   "types_to_exclude": [
    "module",
    "function",
    "builtin_function_or_method",
    "instance",
    "_Feature"
   ],
   "window_display": false
  }
 },
 "nbformat": 4,
 "nbformat_minor": 4
}
