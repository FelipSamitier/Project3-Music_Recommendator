{
 "cells": [
  {
   "cell_type": "markdown",
   "metadata": {},
   "source": [
    "# Prototype 1"
   ]
  },
  {
   "cell_type": "code",
   "execution_count": 1,
   "metadata": {},
   "outputs": [],
   "source": [
    "import requests\n",
    "from bs4 import BeautifulSoup\n",
    "import pandas as pd\n",
    "import random"
   ]
  },
  {
   "cell_type": "code",
   "execution_count": 2,
   "metadata": {},
   "outputs": [
    {
     "data": {
      "text/plain": [
       "200"
      ]
     },
     "execution_count": 2,
     "metadata": {},
     "output_type": "execute_result"
    }
   ],
   "source": [
    "url = \"https://www.billboard.com/charts/hot-100\"\n",
    "\n",
    "response = requests.get(url)\n",
    "\n",
    "response.status_code"
   ]
  },
  {
   "cell_type": "code",
   "execution_count": 3,
   "metadata": {},
   "outputs": [],
   "source": [
    "soup = BeautifulSoup(response.content, \"html.parser\")\n",
    "\n",
    "canço = soup.select(\"span.chart-element__information__song.text--truncate.color--primary\")"
   ]
  },
  {
   "cell_type": "code",
   "execution_count": 4,
   "metadata": {
    "collapsed": true
   },
   "outputs": [
    {
     "data": {
      "text/plain": [
       "['Drivers License',\n",
       " '34+35',\n",
       " 'Mood',\n",
       " 'Blinding Lights',\n",
       " 'Positions',\n",
       " 'Levitating',\n",
       " 'Go Crazy',\n",
       " 'Holy',\n",
       " 'Bang!',\n",
       " 'Good Days',\n",
       " 'For The Night',\n",
       " 'I Hope',\n",
       " 'Therefore I Am',\n",
       " 'Lonely',\n",
       " 'Better Together',\n",
       " 'Body',\n",
       " 'Laugh Now Cry Later',\n",
       " 'Dakiti',\n",
       " 'Whoopty',\n",
       " 'Save Your Tears',\n",
       " 'Lemonade',\n",
       " 'Bad Boy',\n",
       " 'What You Know Bout Love',\n",
       " 'Wasted On You',\n",
       " '7 Summers',\n",
       " 'Anyone',\n",
       " 'More Than My Hometown',\n",
       " 'Willow',\n",
       " 'Kings & Queens',\n",
       " 'Before You Go',\n",
       " 'You Broke Me First.',\n",
       " \"You're Mines Still\",\n",
       " 'On Me',\n",
       " \"My Ex's Best Friend\",\n",
       " 'Starting Over',\n",
       " \"Somebody's Problem\",\n",
       " 'Rockstar',\n",
       " 'I Should Probably Go To Bed',\n",
       " 'Streets',\n",
       " 'Sand In My Boots',\n",
       " 'Afterglow',\n",
       " 'Good Time',\n",
       " 'Whats Poppin',\n",
       " 'Hole In The Bottle',\n",
       " 'Dynamite',\n",
       " 'Back In Blood',\n",
       " 'Diamonds',\n",
       " 'Savage Love (Laxed - Siren Beat)',\n",
       " 'Best Friend',\n",
       " 'WAP',\n",
       " 'Cry Baby',\n",
       " 'Without You',\n",
       " 'Damage',\n",
       " 'Throat Baby (Go Baby)',\n",
       " 'Masterpiece',\n",
       " 'Love You Like I Used To',\n",
       " 'Happy Does',\n",
       " 'Back To The Streets',\n",
       " 'Holiday',\n",
       " \"What's Your Country Song\",\n",
       " 'Put Your Records On',\n",
       " 'Champagne Night',\n",
       " \"Still Trappin'\",\n",
       " 'Beers And Sunshine',\n",
       " 'Forever After All',\n",
       " 'Still Goin Down',\n",
       " 'Monster',\n",
       " 'Big, Big Plans',\n",
       " 'Tyler Herro',\n",
       " 'Down To One',\n",
       " 'Cover Me Up',\n",
       " 'Warning',\n",
       " 'Just The Way',\n",
       " '865',\n",
       " 'Mr. Right Now',\n",
       " 'Undivided',\n",
       " 'Monsters',\n",
       " 'Take You Dancing',\n",
       " 'Prisoner',\n",
       " 'Long Live',\n",
       " 'The Good Ones',\n",
       " 'Golden',\n",
       " 'Buss It',\n",
       " 'Beat Box',\n",
       " 'Goosebumps',\n",
       " 'Hit Different',\n",
       " 'So Done',\n",
       " 'Bichota',\n",
       " 'Moonwalking In Calabasas',\n",
       " 'Adderall (Corvette Corvette)',\n",
       " 'Girl Like Me',\n",
       " 'De Una Vez',\n",
       " \"Momma's House\",\n",
       " 'Better Days',\n",
       " 'Lady',\n",
       " 'Drankin N Smokin',\n",
       " 'Somebody Like That',\n",
       " 'One Too Many',\n",
       " 'Hell Of A View',\n",
       " 'Dangerous']"
      ]
     },
     "execution_count": 4,
     "metadata": {},
     "output_type": "execute_result"
    }
   ],
   "source": [
    "songs = []\n",
    "\n",
    "for i in canço:\n",
    "    songs.append(i.get_text())\n",
    "    \n",
    "songs"
   ]
  },
  {
   "cell_type": "code",
   "execution_count": 5,
   "metadata": {
    "collapsed": true
   },
   "outputs": [
    {
     "data": {
      "text/plain": [
       "['Olivia Rodrigo',\n",
       " 'Ariana Grande Ft. Doja Cat & Megan Thee Stallion',\n",
       " '24kGoldn Featuring iann dior',\n",
       " 'The Weeknd',\n",
       " 'Ariana Grande',\n",
       " 'Dua Lipa Featuring DaBaby',\n",
       " 'Chris Brown & Young Thug',\n",
       " 'Justin Bieber Featuring Chance The Rapper',\n",
       " 'AJR',\n",
       " 'SZA',\n",
       " 'Pop Smoke Featuring Lil Baby & DaBaby',\n",
       " 'Gabby Barrett Featuring Charlie Puth',\n",
       " 'Billie Eilish',\n",
       " 'Justin Bieber & benny blanco',\n",
       " 'Luke Combs',\n",
       " 'Megan Thee Stallion',\n",
       " 'Drake Featuring Lil Durk',\n",
       " 'Bad Bunny & Jhay Cortez',\n",
       " 'CJ',\n",
       " 'The Weeknd',\n",
       " 'Internet Money & Gunna Featuring Don Toliver & NAV',\n",
       " 'Juice WRLD & Young Thug',\n",
       " 'Pop Smoke',\n",
       " 'Morgan Wallen',\n",
       " 'Morgan Wallen',\n",
       " 'Justin Bieber',\n",
       " 'Morgan Wallen',\n",
       " 'Taylor Swift',\n",
       " 'Ava Max',\n",
       " 'Lewis Capaldi',\n",
       " 'Tate McRae',\n",
       " 'Yung Bleu Featuring Drake',\n",
       " 'Lil Baby',\n",
       " 'Machine Gun Kelly X blackbear',\n",
       " 'Chris Stapleton',\n",
       " 'Morgan Wallen',\n",
       " 'DaBaby Featuring Roddy Ricch',\n",
       " 'Dan + Shay',\n",
       " 'Doja Cat',\n",
       " 'Morgan Wallen',\n",
       " 'Ed Sheeran',\n",
       " 'Niko Moon',\n",
       " 'Jack Harlow Featuring DaBaby, Tory Lanez & Lil Wayne',\n",
       " 'Kelsea Ballerini',\n",
       " 'BTS',\n",
       " 'Pooh Shiesty Featuring Lil Durk',\n",
       " 'Sam Smith',\n",
       " 'Jawsh 685 x Jason Derulo',\n",
       " 'Saweetie Featuring Doja Cat',\n",
       " 'Cardi B Featuring Megan Thee Stallion',\n",
       " 'Megan Thee Stallion Featuring DaBaby',\n",
       " 'The Kid LAROI',\n",
       " 'H.E.R.',\n",
       " 'BRS Kash',\n",
       " 'DaBaby',\n",
       " 'Russell Dickerson',\n",
       " 'Kenny Chesney',\n",
       " 'Saweetie Featuring Jhene Aiko',\n",
       " 'Lil Nas X',\n",
       " 'Thomas Rhett',\n",
       " 'Ritt Momney',\n",
       " 'Lady A',\n",
       " 'Lil Durk & King Von',\n",
       " 'Darius Rucker',\n",
       " 'Luke Combs',\n",
       " 'Morgan Wallen',\n",
       " 'Shawn Mendes & Justin Bieber',\n",
       " 'Chris Lane',\n",
       " 'Jack Harlow',\n",
       " 'Luke Bryan',\n",
       " 'Morgan Wallen',\n",
       " 'Morgan Wallen',\n",
       " 'Parmalee x Blanco Brown',\n",
       " 'Morgan Wallen',\n",
       " '21 Savage & Metro Boomin Featuring Drake',\n",
       " 'Tim McGraw & Tyler Hubbard',\n",
       " 'All Time Low Featuring Demi Lovato & blackbear ',\n",
       " 'Jason Derulo',\n",
       " 'Miley Cyrus Featuring Dua Lipa',\n",
       " 'Florida Georgia Line',\n",
       " 'Gabby Barrett',\n",
       " 'Harry Styles',\n",
       " 'Erica Banks',\n",
       " 'SpotemGottem',\n",
       " 'Travis Scott & HVME',\n",
       " 'SZA Featuring Ty Dolla $ign',\n",
       " 'The Kid LAROI',\n",
       " 'Karol G',\n",
       " 'DDG',\n",
       " 'Popp Hunna',\n",
       " 'Black Eyed Peas X Shakira',\n",
       " 'Selena Gomez',\n",
       " 'Dustin Lynch',\n",
       " 'Ant Clemons Featuring Justin Timberlake',\n",
       " 'Brett Young',\n",
       " 'Future & Lil Uzi Vert',\n",
       " 'Tenille Arts',\n",
       " 'Keith Urban Duet With P!nk',\n",
       " 'Eric Church',\n",
       " 'Morgan Wallen']"
      ]
     },
     "execution_count": 5,
     "metadata": {},
     "output_type": "execute_result"
    }
   ],
   "source": [
    "cantant = soup.select(\"span.chart-element__information__artist.text--truncate.color--secondary\")\n",
    "\n",
    "artist = []\n",
    "\n",
    "for i in cantant:\n",
    "    artist.append(i.get_text())\n",
    "    \n",
    "artist"
   ]
  },
  {
   "cell_type": "code",
   "execution_count": 6,
   "metadata": {},
   "outputs": [],
   "source": [
    "top100_dict = {\n",
    "    \"Artist\": artist,\n",
    "    \"Song\": songs,   \n",
    "}\n",
    "\n",
    "df = pd.DataFrame(top100_dict)\n",
    "\n",
    "df.to_csv(\"./df_top100.csv\")\n"
   ]
  },
  {
   "cell_type": "code",
   "execution_count": 18,
   "metadata": {},
   "outputs": [],
   "source": [
    "def ask_top100(user_song):\n",
    "    \n",
    "    if user_song in dict(df[\"Song\"]):\n",
    "        \n",
    "        print(\"Està en el Top 100! Potser t'agrada: \" + top100_dict[\"Song\"][random.randint(0,len(top100_dict[\"Song\"])-1)])\n",
    "        ask_again()\n",
    "    else:\n",
    "        \n",
    "        print(\"Aquesta canço no esta en el Top 100\")\n",
    "        \n",
    "        ask_again()\n",
    "        \n",
    "    return\n",
    "\n",
    "def ask_again(): \n",
    "    another_song = input(\"\\nVols posar una altre canço? ([Y] = yes, [N] = no): \").lower()\n",
    "    if another_song == \"y\":\n",
    "        print(\"\\n---------------------------------\")\n",
    "        music_recommend_prot1()\n",
    "    elif another_song != \"y\" and another_song != \"n\":\n",
    "        print(\"\\nI'm not understanding you.\")\n",
    "        ask_again()\n",
    "    else:\n",
    "        print(\"\\nGood Bye!\")"
   ]
  },
  {
   "cell_type": "code",
   "execution_count": 19,
   "metadata": {},
   "outputs": [],
   "source": [
    "def music_recommend_prot1():\n",
    "    \n",
    "    user_song = str(input(\"Posa una canço: \")).title()\n",
    "    \n",
    "    ask_top100(user_song)\n",
    "    \n",
    "    return"
   ]
  },
  {
   "cell_type": "code",
   "execution_count": 20,
   "metadata": {},
   "outputs": [
    {
     "name": "stdout",
     "output_type": "stream",
     "text": [
      "Posa una canço: Mood\n",
      "Aquesta canço no esta en el Top 100\n",
      "\n",
      "Vols posar una altre canço? ([Y] = yes, [N] = no): n\n",
      "\n",
      "Good Bye!\n"
     ]
    }
   ],
   "source": [
    "music_recommend_prot1()"
   ]
  },
  {
   "cell_type": "code",
   "execution_count": null,
   "metadata": {},
   "outputs": [],
   "source": []
  }
 ],
 "metadata": {
  "kernelspec": {
   "display_name": "Python 3",
   "language": "python",
   "name": "python3"
  },
  "toc": {
   "base_numbering": 1,
   "nav_menu": {},
   "number_sections": true,
   "sideBar": true,
   "skip_h1_title": false,
   "title_cell": "Table of Contents",
   "title_sidebar": "Contents",
   "toc_cell": false,
   "toc_position": {},
   "toc_section_display": true,
   "toc_window_display": false
  },
  "varInspector": {
   "cols": {
    "lenName": 16,
    "lenType": 16,
    "lenVar": 40
   },
   "kernels_config": {
    "python": {
     "delete_cmd_postfix": "",
     "delete_cmd_prefix": "del ",
     "library": "var_list.py",
     "varRefreshCmd": "print(var_dic_list())"
    },
    "r": {
     "delete_cmd_postfix": ") ",
     "delete_cmd_prefix": "rm(",
     "library": "var_list.r",
     "varRefreshCmd": "cat(var_dic_list()) "
    }
   },
   "types_to_exclude": [
    "module",
    "function",
    "builtin_function_or_method",
    "instance",
    "_Feature"
   ],
   "window_display": false
  }
 },
 "nbformat": 4,
 "nbformat_minor": 4
}
