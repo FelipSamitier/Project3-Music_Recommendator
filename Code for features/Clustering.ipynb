{
 "cells": [
  {
   "cell_type": "markdown",
   "metadata": {},
   "source": [
    "Project 3"
   ]
  },
  {
   "cell_type": "markdown",
   "metadata": {},
   "source": [
    "## Clustering"
   ]
  },
  {
   "cell_type": "code",
   "execution_count": 26,
   "metadata": {},
   "outputs": [],
   "source": [
    "import pandas as pd\n",
    "from sklearn import datasets\n",
    "from sklearn.preprocessing import StandardScaler\n",
    "from sklearn.cluster import KMeans\n",
    "import spotipy\n",
    "from spotipy.oauth2 import SpotifyClientCredentials\n",
    "\n",
    "sp = spotipy.Spotify(auth_manager=SpotifyClientCredentials(\n",
    "    client_id=\"407ecce27e2941debf00e6aa6d1df04a\",\n",
    "    client_secret=\"f5699c96ab93485ab9e9732d8dd5bd26\"))\n",
    "\n",
    "data = pd.read_csv(\"./data/df_all_songs_all.csv\")\n"
   ]
  },
  {
   "cell_type": "code",
   "execution_count": 2,
   "metadata": {
    "scrolled": true
   },
   "outputs": [],
   "source": [
    "data = data.drop(columns = [\"Unnamed: 0\"])"
   ]
  },
  {
   "cell_type": "code",
   "execution_count": 3,
   "metadata": {},
   "outputs": [],
   "source": [
    "data_only_features = data.copy()"
   ]
  },
  {
   "cell_type": "code",
   "execution_count": 4,
   "metadata": {},
   "outputs": [],
   "source": [
    "data_only_features = data.drop(columns = [\"songs\",\"artists\",\"uri\"])"
   ]
  },
  {
   "cell_type": "code",
   "execution_count": 5,
   "metadata": {},
   "outputs": [
    {
     "data": {
      "text/html": [
       "<div>\n",
       "<style scoped>\n",
       "    .dataframe tbody tr th:only-of-type {\n",
       "        vertical-align: middle;\n",
       "    }\n",
       "\n",
       "    .dataframe tbody tr th {\n",
       "        vertical-align: top;\n",
       "    }\n",
       "\n",
       "    .dataframe thead th {\n",
       "        text-align: right;\n",
       "    }\n",
       "</style>\n",
       "<table border=\"1\" class=\"dataframe\">\n",
       "  <thead>\n",
       "    <tr style=\"text-align: right;\">\n",
       "      <th></th>\n",
       "      <th>danceability</th>\n",
       "      <th>energy</th>\n",
       "      <th>loudness</th>\n",
       "      <th>speechiness</th>\n",
       "      <th>acousticness</th>\n",
       "      <th>instrumentalness</th>\n",
       "      <th>valence</th>\n",
       "      <th>tempo</th>\n",
       "    </tr>\n",
       "  </thead>\n",
       "  <tbody>\n",
       "    <tr>\n",
       "      <th>0</th>\n",
       "      <td>0.560</td>\n",
       "      <td>0.166</td>\n",
       "      <td>-16.252</td>\n",
       "      <td>0.0463</td>\n",
       "      <td>0.982000</td>\n",
       "      <td>0.910</td>\n",
       "      <td>0.1840</td>\n",
       "      <td>172.076</td>\n",
       "    </tr>\n",
       "    <tr>\n",
       "      <th>1</th>\n",
       "      <td>0.698</td>\n",
       "      <td>0.227</td>\n",
       "      <td>-16.068</td>\n",
       "      <td>0.0529</td>\n",
       "      <td>0.439000</td>\n",
       "      <td>0.563</td>\n",
       "      <td>0.0643</td>\n",
       "      <td>82.942</td>\n",
       "    </tr>\n",
       "    <tr>\n",
       "      <th>2</th>\n",
       "      <td>0.645</td>\n",
       "      <td>0.506</td>\n",
       "      <td>-11.213</td>\n",
       "      <td>0.0433</td>\n",
       "      <td>0.590000</td>\n",
       "      <td>0.796</td>\n",
       "      <td>0.3330</td>\n",
       "      <td>84.993</td>\n",
       "    </tr>\n",
       "    <tr>\n",
       "      <th>3</th>\n",
       "      <td>0.732</td>\n",
       "      <td>0.307</td>\n",
       "      <td>-11.781</td>\n",
       "      <td>0.2080</td>\n",
       "      <td>0.259000</td>\n",
       "      <td>0.895</td>\n",
       "      <td>0.3160</td>\n",
       "      <td>170.048</td>\n",
       "    </tr>\n",
       "    <tr>\n",
       "      <th>4</th>\n",
       "      <td>0.519</td>\n",
       "      <td>0.233</td>\n",
       "      <td>-10.873</td>\n",
       "      <td>0.0435</td>\n",
       "      <td>0.876000</td>\n",
       "      <td>0.708</td>\n",
       "      <td>0.1870</td>\n",
       "      <td>118.923</td>\n",
       "    </tr>\n",
       "    <tr>\n",
       "      <th>...</th>\n",
       "      <td>...</td>\n",
       "      <td>...</td>\n",
       "      <td>...</td>\n",
       "      <td>...</td>\n",
       "      <td>...</td>\n",
       "      <td>...</td>\n",
       "      <td>...</td>\n",
       "      <td>...</td>\n",
       "    </tr>\n",
       "    <tr>\n",
       "      <th>1964</th>\n",
       "      <td>0.478</td>\n",
       "      <td>0.848</td>\n",
       "      <td>-6.128</td>\n",
       "      <td>0.3220</td>\n",
       "      <td>0.002320</td>\n",
       "      <td>0.165</td>\n",
       "      <td>0.6360</td>\n",
       "      <td>96.374</td>\n",
       "    </tr>\n",
       "    <tr>\n",
       "      <th>1965</th>\n",
       "      <td>0.540</td>\n",
       "      <td>0.945</td>\n",
       "      <td>-3.290</td>\n",
       "      <td>0.0560</td>\n",
       "      <td>0.000046</td>\n",
       "      <td>0.889</td>\n",
       "      <td>0.6240</td>\n",
       "      <td>174.009</td>\n",
       "    </tr>\n",
       "    <tr>\n",
       "      <th>1966</th>\n",
       "      <td>0.482</td>\n",
       "      <td>0.905</td>\n",
       "      <td>-4.371</td>\n",
       "      <td>0.0419</td>\n",
       "      <td>0.009710</td>\n",
       "      <td>0.295</td>\n",
       "      <td>0.1160</td>\n",
       "      <td>93.019</td>\n",
       "    </tr>\n",
       "    <tr>\n",
       "      <th>1967</th>\n",
       "      <td>0.347</td>\n",
       "      <td>0.478</td>\n",
       "      <td>-10.341</td>\n",
       "      <td>0.0406</td>\n",
       "      <td>0.040100</td>\n",
       "      <td>0.748</td>\n",
       "      <td>0.0310</td>\n",
       "      <td>199.964</td>\n",
       "    </tr>\n",
       "    <tr>\n",
       "      <th>1968</th>\n",
       "      <td>0.815</td>\n",
       "      <td>0.699</td>\n",
       "      <td>-5.507</td>\n",
       "      <td>0.0453</td>\n",
       "      <td>0.001850</td>\n",
       "      <td>0.849</td>\n",
       "      <td>0.5400</td>\n",
       "      <td>126.017</td>\n",
       "    </tr>\n",
       "  </tbody>\n",
       "</table>\n",
       "<p>1969 rows × 8 columns</p>\n",
       "</div>"
      ],
      "text/plain": [
       "      danceability  energy  loudness  speechiness  acousticness  \\\n",
       "0            0.560   0.166   -16.252       0.0463      0.982000   \n",
       "1            0.698   0.227   -16.068       0.0529      0.439000   \n",
       "2            0.645   0.506   -11.213       0.0433      0.590000   \n",
       "3            0.732   0.307   -11.781       0.2080      0.259000   \n",
       "4            0.519   0.233   -10.873       0.0435      0.876000   \n",
       "...            ...     ...       ...          ...           ...   \n",
       "1964         0.478   0.848    -6.128       0.3220      0.002320   \n",
       "1965         0.540   0.945    -3.290       0.0560      0.000046   \n",
       "1966         0.482   0.905    -4.371       0.0419      0.009710   \n",
       "1967         0.347   0.478   -10.341       0.0406      0.040100   \n",
       "1968         0.815   0.699    -5.507       0.0453      0.001850   \n",
       "\n",
       "      instrumentalness  valence    tempo  \n",
       "0                0.910   0.1840  172.076  \n",
       "1                0.563   0.0643   82.942  \n",
       "2                0.796   0.3330   84.993  \n",
       "3                0.895   0.3160  170.048  \n",
       "4                0.708   0.1870  118.923  \n",
       "...                ...      ...      ...  \n",
       "1964             0.165   0.6360   96.374  \n",
       "1965             0.889   0.6240  174.009  \n",
       "1966             0.295   0.1160   93.019  \n",
       "1967             0.748   0.0310  199.964  \n",
       "1968             0.849   0.5400  126.017  \n",
       "\n",
       "[1969 rows x 8 columns]"
      ]
     },
     "execution_count": 5,
     "metadata": {},
     "output_type": "execute_result"
    }
   ],
   "source": [
    "data_only_features"
   ]
  },
  {
   "cell_type": "code",
   "execution_count": 27,
   "metadata": {},
   "outputs": [],
   "source": [
    "data_only_features.to_csv(\"./data_only_features.csv\")"
   ]
  },
  {
   "cell_type": "code",
   "execution_count": 6,
   "metadata": {},
   "outputs": [],
   "source": [
    "scaler = StandardScaler()\n",
    "data_scaled = scaler.fit_transform(data_only_features)"
   ]
  },
  {
   "cell_type": "code",
   "execution_count": 9,
   "metadata": {},
   "outputs": [
    {
     "data": {
      "text/plain": [
       "array([[-0.11138345, -2.03981514, -2.19862111, ...,  2.30401531,\n",
       "        -1.22818531,  1.73586857],\n",
       "       [ 0.79289613, -1.78895584, -2.14981246, ...,  1.20714921,\n",
       "        -1.71916225, -1.31079751],\n",
       "       [ 0.44560035, -0.64158297, -0.86195398, ...,  1.9436616 ,\n",
       "        -0.61702771, -1.24069282],\n",
       "       ...,\n",
       "       [-0.62249799,  0.99928362,  0.95298479, ...,  0.3600019 ,\n",
       "        -1.50710287, -0.9663582 ],\n",
       "       [-1.50711932, -0.7567315 , -0.63064346, ...,  1.79193373,\n",
       "        -1.85574982,  2.68910105],\n",
       "       [ 1.55956795,  0.15211941,  0.65164447, ...,  2.11119447,\n",
       "         0.23203015,  0.16153787]])"
      ]
     },
     "execution_count": 9,
     "metadata": {},
     "output_type": "execute_result"
    }
   ],
   "source": [
    "data_scaled"
   ]
  },
  {
   "cell_type": "code",
   "execution_count": 10,
   "metadata": {},
   "outputs": [
    {
     "data": {
      "text/html": [
       "<div>\n",
       "<style scoped>\n",
       "    .dataframe tbody tr th:only-of-type {\n",
       "        vertical-align: middle;\n",
       "    }\n",
       "\n",
       "    .dataframe tbody tr th {\n",
       "        vertical-align: top;\n",
       "    }\n",
       "\n",
       "    .dataframe thead th {\n",
       "        text-align: right;\n",
       "    }\n",
       "</style>\n",
       "<table border=\"1\" class=\"dataframe\">\n",
       "  <thead>\n",
       "    <tr style=\"text-align: right;\">\n",
       "      <th></th>\n",
       "      <th>danceability</th>\n",
       "      <th>energy</th>\n",
       "      <th>loudness</th>\n",
       "      <th>speechiness</th>\n",
       "      <th>acousticness</th>\n",
       "      <th>instrumentalness</th>\n",
       "      <th>valence</th>\n",
       "      <th>tempo</th>\n",
       "    </tr>\n",
       "  </thead>\n",
       "  <tbody>\n",
       "    <tr>\n",
       "      <th>0</th>\n",
       "      <td>-0.111383</td>\n",
       "      <td>-2.039815</td>\n",
       "      <td>-2.198621</td>\n",
       "      <td>-0.417127</td>\n",
       "      <td>2.435271</td>\n",
       "      <td>2.304015</td>\n",
       "      <td>-1.228185</td>\n",
       "      <td>1.735869</td>\n",
       "    </tr>\n",
       "    <tr>\n",
       "      <th>1</th>\n",
       "      <td>0.792896</td>\n",
       "      <td>-1.788956</td>\n",
       "      <td>-2.149812</td>\n",
       "      <td>-0.323979</td>\n",
       "      <td>0.640431</td>\n",
       "      <td>1.207149</td>\n",
       "      <td>-1.719162</td>\n",
       "      <td>-1.310798</td>\n",
       "    </tr>\n",
       "    <tr>\n",
       "      <th>2</th>\n",
       "      <td>0.445600</td>\n",
       "      <td>-0.641583</td>\n",
       "      <td>-0.861954</td>\n",
       "      <td>-0.459466</td>\n",
       "      <td>1.139548</td>\n",
       "      <td>1.943662</td>\n",
       "      <td>-0.617028</td>\n",
       "      <td>-1.240693</td>\n",
       "    </tr>\n",
       "    <tr>\n",
       "      <th>3</th>\n",
       "      <td>1.015690</td>\n",
       "      <td>-1.459960</td>\n",
       "      <td>-1.012624</td>\n",
       "      <td>1.864994</td>\n",
       "      <td>0.045456</td>\n",
       "      <td>2.256600</td>\n",
       "      <td>-0.686757</td>\n",
       "      <td>1.666550</td>\n",
       "    </tr>\n",
       "    <tr>\n",
       "      <th>4</th>\n",
       "      <td>-0.380046</td>\n",
       "      <td>-1.764281</td>\n",
       "      <td>-0.771764</td>\n",
       "      <td>-0.456644</td>\n",
       "      <td>2.084897</td>\n",
       "      <td>1.665494</td>\n",
       "      <td>-1.215880</td>\n",
       "      <td>-0.080940</td>\n",
       "    </tr>\n",
       "    <tr>\n",
       "      <th>...</th>\n",
       "      <td>...</td>\n",
       "      <td>...</td>\n",
       "      <td>...</td>\n",
       "      <td>...</td>\n",
       "      <td>...</td>\n",
       "      <td>...</td>\n",
       "      <td>...</td>\n",
       "      <td>...</td>\n",
       "    </tr>\n",
       "    <tr>\n",
       "      <th>1964</th>\n",
       "      <td>-0.648709</td>\n",
       "      <td>0.764874</td>\n",
       "      <td>0.486915</td>\n",
       "      <td>3.473911</td>\n",
       "      <td>-0.802978</td>\n",
       "      <td>-0.050928</td>\n",
       "      <td>0.625796</td>\n",
       "      <td>-0.851682</td>\n",
       "    </tr>\n",
       "    <tr>\n",
       "      <th>1965</th>\n",
       "      <td>-0.242438</td>\n",
       "      <td>1.163782</td>\n",
       "      <td>1.239736</td>\n",
       "      <td>-0.280228</td>\n",
       "      <td>-0.810493</td>\n",
       "      <td>2.237634</td>\n",
       "      <td>0.576575</td>\n",
       "      <td>1.801940</td>\n",
       "    </tr>\n",
       "    <tr>\n",
       "      <th>1966</th>\n",
       "      <td>-0.622498</td>\n",
       "      <td>0.999284</td>\n",
       "      <td>0.952985</td>\n",
       "      <td>-0.479225</td>\n",
       "      <td>-0.778551</td>\n",
       "      <td>0.360002</td>\n",
       "      <td>-1.507103</td>\n",
       "      <td>-0.966358</td>\n",
       "    </tr>\n",
       "    <tr>\n",
       "      <th>1967</th>\n",
       "      <td>-1.507119</td>\n",
       "      <td>-0.756731</td>\n",
       "      <td>-0.630643</td>\n",
       "      <td>-0.497572</td>\n",
       "      <td>-0.678099</td>\n",
       "      <td>1.791934</td>\n",
       "      <td>-1.855750</td>\n",
       "      <td>2.689101</td>\n",
       "    </tr>\n",
       "    <tr>\n",
       "      <th>1968</th>\n",
       "      <td>1.559568</td>\n",
       "      <td>0.152119</td>\n",
       "      <td>0.651644</td>\n",
       "      <td>-0.431240</td>\n",
       "      <td>-0.804532</td>\n",
       "      <td>2.111194</td>\n",
       "      <td>0.232030</td>\n",
       "      <td>0.161538</td>\n",
       "    </tr>\n",
       "  </tbody>\n",
       "</table>\n",
       "<p>1969 rows × 8 columns</p>\n",
       "</div>"
      ],
      "text/plain": [
       "      danceability    energy  loudness  speechiness  acousticness  \\\n",
       "0        -0.111383 -2.039815 -2.198621    -0.417127      2.435271   \n",
       "1         0.792896 -1.788956 -2.149812    -0.323979      0.640431   \n",
       "2         0.445600 -0.641583 -0.861954    -0.459466      1.139548   \n",
       "3         1.015690 -1.459960 -1.012624     1.864994      0.045456   \n",
       "4        -0.380046 -1.764281 -0.771764    -0.456644      2.084897   \n",
       "...            ...       ...       ...          ...           ...   \n",
       "1964     -0.648709  0.764874  0.486915     3.473911     -0.802978   \n",
       "1965     -0.242438  1.163782  1.239736    -0.280228     -0.810493   \n",
       "1966     -0.622498  0.999284  0.952985    -0.479225     -0.778551   \n",
       "1967     -1.507119 -0.756731 -0.630643    -0.497572     -0.678099   \n",
       "1968      1.559568  0.152119  0.651644    -0.431240     -0.804532   \n",
       "\n",
       "      instrumentalness   valence     tempo  \n",
       "0             2.304015 -1.228185  1.735869  \n",
       "1             1.207149 -1.719162 -1.310798  \n",
       "2             1.943662 -0.617028 -1.240693  \n",
       "3             2.256600 -0.686757  1.666550  \n",
       "4             1.665494 -1.215880 -0.080940  \n",
       "...                ...       ...       ...  \n",
       "1964         -0.050928  0.625796 -0.851682  \n",
       "1965          2.237634  0.576575  1.801940  \n",
       "1966          0.360002 -1.507103 -0.966358  \n",
       "1967          1.791934 -1.855750  2.689101  \n",
       "1968          2.111194  0.232030  0.161538  \n",
       "\n",
       "[1969 rows x 8 columns]"
      ]
     },
     "execution_count": 10,
     "metadata": {},
     "output_type": "execute_result"
    }
   ],
   "source": [
    "df_scaled = pd.DataFrame(data_scaled,columns = data_only_features.columns)\n",
    "\n",
    "df_scaled"
   ]
  },
  {
   "cell_type": "code",
   "execution_count": 11,
   "metadata": {},
   "outputs": [],
   "source": [
    "my_kmeans = KMeans(n_clusters = 15, random_state = 1234)"
   ]
  },
  {
   "cell_type": "code",
   "execution_count": 12,
   "metadata": {},
   "outputs": [
    {
     "data": {
      "text/plain": [
       "300"
      ]
     },
     "execution_count": 12,
     "metadata": {},
     "output_type": "execute_result"
    }
   ],
   "source": [
    "my_kmeans.max_iter"
   ]
  },
  {
   "cell_type": "code",
   "execution_count": 13,
   "metadata": {},
   "outputs": [
    {
     "data": {
      "text/plain": [
       "KMeans(n_clusters=15, random_state=1234)"
      ]
     },
     "execution_count": 13,
     "metadata": {},
     "output_type": "execute_result"
    }
   ],
   "source": [
    "my_kmeans.fit(df_scaled)"
   ]
  },
  {
   "cell_type": "code",
   "execution_count": 14,
   "metadata": {},
   "outputs": [
    {
     "data": {
      "text/plain": [
       "array([ 2, 13, 13, ...,  7,  3, 11])"
      ]
     },
     "execution_count": 14,
     "metadata": {},
     "output_type": "execute_result"
    }
   ],
   "source": [
    "clusters = my_kmeans.predict(df_scaled)\n",
    "\n",
    "clusters"
   ]
  },
  {
   "cell_type": "code",
   "execution_count": 15,
   "metadata": {},
   "outputs": [],
   "source": [
    "data[\"clusters\"] = clusters"
   ]
  },
  {
   "cell_type": "code",
   "execution_count": 16,
   "metadata": {},
   "outputs": [
    {
     "data": {
      "text/html": [
       "<div>\n",
       "<style scoped>\n",
       "    .dataframe tbody tr th:only-of-type {\n",
       "        vertical-align: middle;\n",
       "    }\n",
       "\n",
       "    .dataframe tbody tr th {\n",
       "        vertical-align: top;\n",
       "    }\n",
       "\n",
       "    .dataframe thead th {\n",
       "        text-align: right;\n",
       "    }\n",
       "</style>\n",
       "<table border=\"1\" class=\"dataframe\">\n",
       "  <thead>\n",
       "    <tr style=\"text-align: right;\">\n",
       "      <th></th>\n",
       "      <th>songs</th>\n",
       "      <th>artists</th>\n",
       "      <th>uri</th>\n",
       "      <th>danceability</th>\n",
       "      <th>energy</th>\n",
       "      <th>loudness</th>\n",
       "      <th>speechiness</th>\n",
       "      <th>acousticness</th>\n",
       "      <th>instrumentalness</th>\n",
       "      <th>valence</th>\n",
       "      <th>tempo</th>\n",
       "      <th>clusters</th>\n",
       "    </tr>\n",
       "  </thead>\n",
       "  <tbody>\n",
       "    <tr>\n",
       "      <th>0</th>\n",
       "      <td>Kiddish</td>\n",
       "      <td>Refeeld</td>\n",
       "      <td>spotify:track:3aJGP2lJwgsCduog1jmGuE</td>\n",
       "      <td>0.560</td>\n",
       "      <td>0.166</td>\n",
       "      <td>-16.252</td>\n",
       "      <td>0.0463</td>\n",
       "      <td>0.982000</td>\n",
       "      <td>0.910</td>\n",
       "      <td>0.1840</td>\n",
       "      <td>172.076</td>\n",
       "      <td>2</td>\n",
       "    </tr>\n",
       "    <tr>\n",
       "      <th>1</th>\n",
       "      <td>Oxygen</td>\n",
       "      <td>Twotrees</td>\n",
       "      <td>spotify:track:1TQWP9HwvLp516cBWqtEyx</td>\n",
       "      <td>0.698</td>\n",
       "      <td>0.227</td>\n",
       "      <td>-16.068</td>\n",
       "      <td>0.0529</td>\n",
       "      <td>0.439000</td>\n",
       "      <td>0.563</td>\n",
       "      <td>0.0643</td>\n",
       "      <td>82.942</td>\n",
       "      <td>13</td>\n",
       "    </tr>\n",
       "    <tr>\n",
       "      <th>2</th>\n",
       "      <td>Overseas</td>\n",
       "      <td>Saï T</td>\n",
       "      <td>spotify:track:0FDlU2i5VMYhSNKy7WNYau</td>\n",
       "      <td>0.645</td>\n",
       "      <td>0.506</td>\n",
       "      <td>-11.213</td>\n",
       "      <td>0.0433</td>\n",
       "      <td>0.590000</td>\n",
       "      <td>0.796</td>\n",
       "      <td>0.3330</td>\n",
       "      <td>84.993</td>\n",
       "      <td>13</td>\n",
       "    </tr>\n",
       "    <tr>\n",
       "      <th>3</th>\n",
       "      <td>Grandma's Radio</td>\n",
       "      <td>Bequem</td>\n",
       "      <td>spotify:track:6QeOUYs8lkF3jIqhiuPkqc</td>\n",
       "      <td>0.732</td>\n",
       "      <td>0.307</td>\n",
       "      <td>-11.781</td>\n",
       "      <td>0.2080</td>\n",
       "      <td>0.259000</td>\n",
       "      <td>0.895</td>\n",
       "      <td>0.3160</td>\n",
       "      <td>170.048</td>\n",
       "      <td>2</td>\n",
       "    </tr>\n",
       "    <tr>\n",
       "      <th>4</th>\n",
       "      <td>Longing For</td>\n",
       "      <td>damaa.beats</td>\n",
       "      <td>spotify:track:5pRqyaTUGcdrwcvWualdHn</td>\n",
       "      <td>0.519</td>\n",
       "      <td>0.233</td>\n",
       "      <td>-10.873</td>\n",
       "      <td>0.0435</td>\n",
       "      <td>0.876000</td>\n",
       "      <td>0.708</td>\n",
       "      <td>0.1870</td>\n",
       "      <td>118.923</td>\n",
       "      <td>2</td>\n",
       "    </tr>\n",
       "    <tr>\n",
       "      <th>...</th>\n",
       "      <td>...</td>\n",
       "      <td>...</td>\n",
       "      <td>...</td>\n",
       "      <td>...</td>\n",
       "      <td>...</td>\n",
       "      <td>...</td>\n",
       "      <td>...</td>\n",
       "      <td>...</td>\n",
       "      <td>...</td>\n",
       "      <td>...</td>\n",
       "      <td>...</td>\n",
       "      <td>...</td>\n",
       "    </tr>\n",
       "    <tr>\n",
       "      <th>1964</th>\n",
       "      <td>Mr Brown</td>\n",
       "      <td>KOAN Sound</td>\n",
       "      <td>spotify:track:4JLQBv429zgH3QFVKxT6ht</td>\n",
       "      <td>0.478</td>\n",
       "      <td>0.848</td>\n",
       "      <td>-6.128</td>\n",
       "      <td>0.3220</td>\n",
       "      <td>0.002320</td>\n",
       "      <td>0.165</td>\n",
       "      <td>0.6360</td>\n",
       "      <td>96.374</td>\n",
       "      <td>6</td>\n",
       "    </tr>\n",
       "    <tr>\n",
       "      <th>1965</th>\n",
       "      <td>Hoohah - VIP Edit</td>\n",
       "      <td>Fox Stevenson</td>\n",
       "      <td>spotify:track:6FsbGFhn0tdA53U6FFKMiz</td>\n",
       "      <td>0.540</td>\n",
       "      <td>0.945</td>\n",
       "      <td>-3.290</td>\n",
       "      <td>0.0560</td>\n",
       "      <td>0.000046</td>\n",
       "      <td>0.889</td>\n",
       "      <td>0.6240</td>\n",
       "      <td>174.009</td>\n",
       "      <td>11</td>\n",
       "    </tr>\n",
       "    <tr>\n",
       "      <th>1966</th>\n",
       "      <td>4ÆM</td>\n",
       "      <td>Grimes</td>\n",
       "      <td>spotify:track:0cAGNiWXRAXX1QKn3Ssbzd</td>\n",
       "      <td>0.482</td>\n",
       "      <td>0.905</td>\n",
       "      <td>-4.371</td>\n",
       "      <td>0.0419</td>\n",
       "      <td>0.009710</td>\n",
       "      <td>0.295</td>\n",
       "      <td>0.1160</td>\n",
       "      <td>93.019</td>\n",
       "      <td>7</td>\n",
       "    </tr>\n",
       "    <tr>\n",
       "      <th>1967</th>\n",
       "      <td>Welcome to Night City - Instrumental</td>\n",
       "      <td>Head Splitter</td>\n",
       "      <td>spotify:track:2dJ4B4AFU8BzwZRzdvkTv8</td>\n",
       "      <td>0.347</td>\n",
       "      <td>0.478</td>\n",
       "      <td>-10.341</td>\n",
       "      <td>0.0406</td>\n",
       "      <td>0.040100</td>\n",
       "      <td>0.748</td>\n",
       "      <td>0.0310</td>\n",
       "      <td>199.964</td>\n",
       "      <td>3</td>\n",
       "    </tr>\n",
       "    <tr>\n",
       "      <th>1968</th>\n",
       "      <td>Truckers Delight</td>\n",
       "      <td>Flairs</td>\n",
       "      <td>spotify:track:2bvS6qJr4ihTVMUN6MPKrU</td>\n",
       "      <td>0.815</td>\n",
       "      <td>0.699</td>\n",
       "      <td>-5.507</td>\n",
       "      <td>0.0453</td>\n",
       "      <td>0.001850</td>\n",
       "      <td>0.849</td>\n",
       "      <td>0.5400</td>\n",
       "      <td>126.017</td>\n",
       "      <td>11</td>\n",
       "    </tr>\n",
       "  </tbody>\n",
       "</table>\n",
       "<p>1969 rows × 12 columns</p>\n",
       "</div>"
      ],
      "text/plain": [
       "                                     songs        artists  \\\n",
       "0                                  Kiddish        Refeeld   \n",
       "1                                   Oxygen       Twotrees   \n",
       "2                                 Overseas          Saï T   \n",
       "3                          Grandma's Radio         Bequem   \n",
       "4                              Longing For    damaa.beats   \n",
       "...                                    ...            ...   \n",
       "1964                              Mr Brown     KOAN Sound   \n",
       "1965                     Hoohah - VIP Edit  Fox Stevenson   \n",
       "1966                                   4ÆM         Grimes   \n",
       "1967  Welcome to Night City - Instrumental  Head Splitter   \n",
       "1968                      Truckers Delight         Flairs   \n",
       "\n",
       "                                       uri  danceability  energy  loudness  \\\n",
       "0     spotify:track:3aJGP2lJwgsCduog1jmGuE         0.560   0.166   -16.252   \n",
       "1     spotify:track:1TQWP9HwvLp516cBWqtEyx         0.698   0.227   -16.068   \n",
       "2     spotify:track:0FDlU2i5VMYhSNKy7WNYau         0.645   0.506   -11.213   \n",
       "3     spotify:track:6QeOUYs8lkF3jIqhiuPkqc         0.732   0.307   -11.781   \n",
       "4     spotify:track:5pRqyaTUGcdrwcvWualdHn         0.519   0.233   -10.873   \n",
       "...                                    ...           ...     ...       ...   \n",
       "1964  spotify:track:4JLQBv429zgH3QFVKxT6ht         0.478   0.848    -6.128   \n",
       "1965  spotify:track:6FsbGFhn0tdA53U6FFKMiz         0.540   0.945    -3.290   \n",
       "1966  spotify:track:0cAGNiWXRAXX1QKn3Ssbzd         0.482   0.905    -4.371   \n",
       "1967  spotify:track:2dJ4B4AFU8BzwZRzdvkTv8         0.347   0.478   -10.341   \n",
       "1968  spotify:track:2bvS6qJr4ihTVMUN6MPKrU         0.815   0.699    -5.507   \n",
       "\n",
       "      speechiness  acousticness  instrumentalness  valence    tempo  clusters  \n",
       "0          0.0463      0.982000             0.910   0.1840  172.076         2  \n",
       "1          0.0529      0.439000             0.563   0.0643   82.942        13  \n",
       "2          0.0433      0.590000             0.796   0.3330   84.993        13  \n",
       "3          0.2080      0.259000             0.895   0.3160  170.048         2  \n",
       "4          0.0435      0.876000             0.708   0.1870  118.923         2  \n",
       "...           ...           ...               ...      ...      ...       ...  \n",
       "1964       0.3220      0.002320             0.165   0.6360   96.374         6  \n",
       "1965       0.0560      0.000046             0.889   0.6240  174.009        11  \n",
       "1966       0.0419      0.009710             0.295   0.1160   93.019         7  \n",
       "1967       0.0406      0.040100             0.748   0.0310  199.964         3  \n",
       "1968       0.0453      0.001850             0.849   0.5400  126.017        11  \n",
       "\n",
       "[1969 rows x 12 columns]"
      ]
     },
     "execution_count": 16,
     "metadata": {},
     "output_type": "execute_result"
    }
   ],
   "source": [
    "data"
   ]
  },
  {
   "cell_type": "code",
   "execution_count": 17,
   "metadata": {},
   "outputs": [],
   "source": [
    "data.to_csv(\"./data_with_clusters.csv\")"
   ]
  },
  {
   "cell_type": "code",
   "execution_count": 18,
   "metadata": {
    "scrolled": true
   },
   "outputs": [
    {
     "data": {
      "text/html": [
       "<div>\n",
       "<style scoped>\n",
       "    .dataframe tbody tr th:only-of-type {\n",
       "        vertical-align: middle;\n",
       "    }\n",
       "\n",
       "    .dataframe tbody tr th {\n",
       "        vertical-align: top;\n",
       "    }\n",
       "\n",
       "    .dataframe thead th {\n",
       "        text-align: right;\n",
       "    }\n",
       "</style>\n",
       "<table border=\"1\" class=\"dataframe\">\n",
       "  <thead>\n",
       "    <tr style=\"text-align: right;\">\n",
       "      <th></th>\n",
       "      <th>danceability</th>\n",
       "      <th>energy</th>\n",
       "      <th>loudness</th>\n",
       "      <th>speechiness</th>\n",
       "      <th>acousticness</th>\n",
       "      <th>instrumentalness</th>\n",
       "      <th>valence</th>\n",
       "      <th>tempo</th>\n",
       "    </tr>\n",
       "    <tr>\n",
       "      <th>clusters</th>\n",
       "      <th></th>\n",
       "      <th></th>\n",
       "      <th></th>\n",
       "      <th></th>\n",
       "      <th></th>\n",
       "      <th></th>\n",
       "      <th></th>\n",
       "      <th></th>\n",
       "    </tr>\n",
       "  </thead>\n",
       "  <tbody>\n",
       "    <tr>\n",
       "      <th>0</th>\n",
       "      <td>0.698226</td>\n",
       "      <td>0.521723</td>\n",
       "      <td>-9.435467</td>\n",
       "      <td>0.055219</td>\n",
       "      <td>0.498199</td>\n",
       "      <td>0.038918</td>\n",
       "      <td>0.659927</td>\n",
       "      <td>106.435832</td>\n",
       "    </tr>\n",
       "    <tr>\n",
       "      <th>1</th>\n",
       "      <td>0.433645</td>\n",
       "      <td>0.536093</td>\n",
       "      <td>-10.819000</td>\n",
       "      <td>0.048353</td>\n",
       "      <td>0.136493</td>\n",
       "      <td>0.113764</td>\n",
       "      <td>0.344524</td>\n",
       "      <td>100.130103</td>\n",
       "    </tr>\n",
       "    <tr>\n",
       "      <th>2</th>\n",
       "      <td>0.632626</td>\n",
       "      <td>0.285738</td>\n",
       "      <td>-14.595758</td>\n",
       "      <td>0.067947</td>\n",
       "      <td>0.709110</td>\n",
       "      <td>0.845308</td>\n",
       "      <td>0.273242</td>\n",
       "      <td>146.918132</td>\n",
       "    </tr>\n",
       "    <tr>\n",
       "      <th>3</th>\n",
       "      <td>0.363000</td>\n",
       "      <td>0.854844</td>\n",
       "      <td>-5.825981</td>\n",
       "      <td>0.085211</td>\n",
       "      <td>0.031765</td>\n",
       "      <td>0.054014</td>\n",
       "      <td>0.362246</td>\n",
       "      <td>161.692506</td>\n",
       "    </tr>\n",
       "    <tr>\n",
       "      <th>4</th>\n",
       "      <td>0.548948</td>\n",
       "      <td>0.860962</td>\n",
       "      <td>-5.505493</td>\n",
       "      <td>0.054970</td>\n",
       "      <td>0.044462</td>\n",
       "      <td>0.028720</td>\n",
       "      <td>0.639834</td>\n",
       "      <td>114.640687</td>\n",
       "    </tr>\n",
       "    <tr>\n",
       "      <th>5</th>\n",
       "      <td>0.676351</td>\n",
       "      <td>0.691038</td>\n",
       "      <td>-6.437433</td>\n",
       "      <td>0.048908</td>\n",
       "      <td>0.108324</td>\n",
       "      <td>0.036076</td>\n",
       "      <td>0.329961</td>\n",
       "      <td>117.600284</td>\n",
       "    </tr>\n",
       "    <tr>\n",
       "      <th>6</th>\n",
       "      <td>0.597772</td>\n",
       "      <td>0.701281</td>\n",
       "      <td>-7.854421</td>\n",
       "      <td>0.349175</td>\n",
       "      <td>0.213502</td>\n",
       "      <td>0.157598</td>\n",
       "      <td>0.476484</td>\n",
       "      <td>142.759070</td>\n",
       "    </tr>\n",
       "    <tr>\n",
       "      <th>7</th>\n",
       "      <td>0.423517</td>\n",
       "      <td>0.886672</td>\n",
       "      <td>-5.095362</td>\n",
       "      <td>0.075410</td>\n",
       "      <td>0.034228</td>\n",
       "      <td>0.046469</td>\n",
       "      <td>0.336998</td>\n",
       "      <td>104.982161</td>\n",
       "    </tr>\n",
       "    <tr>\n",
       "      <th>8</th>\n",
       "      <td>0.721761</td>\n",
       "      <td>0.796864</td>\n",
       "      <td>-6.108335</td>\n",
       "      <td>0.052098</td>\n",
       "      <td>0.127658</td>\n",
       "      <td>0.051200</td>\n",
       "      <td>0.829222</td>\n",
       "      <td>120.311932</td>\n",
       "    </tr>\n",
       "    <tr>\n",
       "      <th>9</th>\n",
       "      <td>0.542104</td>\n",
       "      <td>0.245974</td>\n",
       "      <td>-12.219670</td>\n",
       "      <td>0.041887</td>\n",
       "      <td>0.807902</td>\n",
       "      <td>0.021620</td>\n",
       "      <td>0.309542</td>\n",
       "      <td>102.761840</td>\n",
       "    </tr>\n",
       "    <tr>\n",
       "      <th>10</th>\n",
       "      <td>0.468029</td>\n",
       "      <td>0.391283</td>\n",
       "      <td>-9.287493</td>\n",
       "      <td>0.041564</td>\n",
       "      <td>0.604075</td>\n",
       "      <td>0.068071</td>\n",
       "      <td>0.347997</td>\n",
       "      <td>154.699841</td>\n",
       "    </tr>\n",
       "    <tr>\n",
       "      <th>11</th>\n",
       "      <td>0.619605</td>\n",
       "      <td>0.747825</td>\n",
       "      <td>-7.217921</td>\n",
       "      <td>0.062925</td>\n",
       "      <td>0.068400</td>\n",
       "      <td>0.772930</td>\n",
       "      <td>0.410133</td>\n",
       "      <td>123.269518</td>\n",
       "    </tr>\n",
       "    <tr>\n",
       "      <th>12</th>\n",
       "      <td>0.527281</td>\n",
       "      <td>0.786437</td>\n",
       "      <td>-7.103859</td>\n",
       "      <td>0.071261</td>\n",
       "      <td>0.129566</td>\n",
       "      <td>0.032234</td>\n",
       "      <td>0.774297</td>\n",
       "      <td>163.930758</td>\n",
       "    </tr>\n",
       "    <tr>\n",
       "      <th>13</th>\n",
       "      <td>0.673080</td>\n",
       "      <td>0.321129</td>\n",
       "      <td>-13.048529</td>\n",
       "      <td>0.062441</td>\n",
       "      <td>0.591683</td>\n",
       "      <td>0.808333</td>\n",
       "      <td>0.292123</td>\n",
       "      <td>87.464913</td>\n",
       "    </tr>\n",
       "    <tr>\n",
       "      <th>14</th>\n",
       "      <td>0.713226</td>\n",
       "      <td>0.738473</td>\n",
       "      <td>-6.351323</td>\n",
       "      <td>0.221710</td>\n",
       "      <td>0.264137</td>\n",
       "      <td>0.033507</td>\n",
       "      <td>0.681710</td>\n",
       "      <td>100.901559</td>\n",
       "    </tr>\n",
       "  </tbody>\n",
       "</table>\n",
       "</div>"
      ],
      "text/plain": [
       "          danceability    energy   loudness  speechiness  acousticness  \\\n",
       "clusters                                                                 \n",
       "0             0.698226  0.521723  -9.435467     0.055219      0.498199   \n",
       "1             0.433645  0.536093 -10.819000     0.048353      0.136493   \n",
       "2             0.632626  0.285738 -14.595758     0.067947      0.709110   \n",
       "3             0.363000  0.854844  -5.825981     0.085211      0.031765   \n",
       "4             0.548948  0.860962  -5.505493     0.054970      0.044462   \n",
       "5             0.676351  0.691038  -6.437433     0.048908      0.108324   \n",
       "6             0.597772  0.701281  -7.854421     0.349175      0.213502   \n",
       "7             0.423517  0.886672  -5.095362     0.075410      0.034228   \n",
       "8             0.721761  0.796864  -6.108335     0.052098      0.127658   \n",
       "9             0.542104  0.245974 -12.219670     0.041887      0.807902   \n",
       "10            0.468029  0.391283  -9.287493     0.041564      0.604075   \n",
       "11            0.619605  0.747825  -7.217921     0.062925      0.068400   \n",
       "12            0.527281  0.786437  -7.103859     0.071261      0.129566   \n",
       "13            0.673080  0.321129 -13.048529     0.062441      0.591683   \n",
       "14            0.713226  0.738473  -6.351323     0.221710      0.264137   \n",
       "\n",
       "          instrumentalness   valence       tempo  \n",
       "clusters                                          \n",
       "0                 0.038918  0.659927  106.435832  \n",
       "1                 0.113764  0.344524  100.130103  \n",
       "2                 0.845308  0.273242  146.918132  \n",
       "3                 0.054014  0.362246  161.692506  \n",
       "4                 0.028720  0.639834  114.640687  \n",
       "5                 0.036076  0.329961  117.600284  \n",
       "6                 0.157598  0.476484  142.759070  \n",
       "7                 0.046469  0.336998  104.982161  \n",
       "8                 0.051200  0.829222  120.311932  \n",
       "9                 0.021620  0.309542  102.761840  \n",
       "10                0.068071  0.347997  154.699841  \n",
       "11                0.772930  0.410133  123.269518  \n",
       "12                0.032234  0.774297  163.930758  \n",
       "13                0.808333  0.292123   87.464913  \n",
       "14                0.033507  0.681710  100.901559  "
      ]
     },
     "execution_count": 18,
     "metadata": {},
     "output_type": "execute_result"
    }
   ],
   "source": [
    "data.groupby([\"clusters\"]).mean()"
   ]
  },
  {
   "cell_type": "code",
   "execution_count": 19,
   "metadata": {},
   "outputs": [
    {
     "data": {
      "text/plain": [
       "5252.541480558524"
      ]
     },
     "execution_count": 19,
     "metadata": {},
     "output_type": "execute_result"
    }
   ],
   "source": [
    "my_kmeans.inertia_"
   ]
  },
  {
   "cell_type": "code",
   "execution_count": 20,
   "metadata": {},
   "outputs": [
    {
     "name": "stdout",
     "output_type": "stream",
     "text": [
      "5252.541480558524\n"
     ]
    }
   ],
   "source": [
    "kmeans = KMeans(n_clusters=15,\n",
    "                init=\"k-means++\", #random,\n",
    "                n_init=10,  # try with 1, 4, 8, 20, 30, 100...\n",
    "                max_iter=300,\n",
    "                tol=0,\n",
    "                algorithm=\"elkan\",\n",
    "                random_state=1234)\n",
    "kmeans.fit(data_scaled)\n",
    "print(kmeans.inertia_)"
   ]
  },
  {
   "cell_type": "code",
   "execution_count": 21,
   "metadata": {},
   "outputs": [
    {
     "name": "stdout",
     "output_type": "stream",
     "text": [
      "10  -->  6181.426508822627\n",
      "11  -->  5941.795589156899\n",
      "12  -->  5721.133110538155\n",
      "13  -->  5571.963886057994\n",
      "14  -->  5418.045277761328\n",
      "15  -->  5252.541480558524\n",
      "16  -->  5129.736295934403\n",
      "17  -->  5009.0095924468515\n",
      "18  -->  4918.566185380788\n",
      "19  -->  4823.441271867587\n"
     ]
    }
   ],
   "source": [
    "# Try to run Kmeans with all values of K, from 2 to 20\n",
    "K = range(10, 20)\n",
    "\n",
    "# For each model, store the inertia in a list\n",
    "inertia = []\n",
    "\n",
    "for k in K:\n",
    "    kmeans = KMeans(n_clusters=k, random_state=1234)\n",
    "    kmeans.fit(data_scaled)\n",
    "    inertia.append(kmeans.inertia_)\n",
    "    print(str(k), \" --> \", str(kmeans.inertia_))"
   ]
  },
  {
   "cell_type": "code",
   "execution_count": 22,
   "metadata": {},
   "outputs": [
    {
     "data": {
      "text/plain": [
       "Text(0.5, 1.0, 'Elbow Method showing the optimal k')"
      ]
     },
     "execution_count": 22,
     "metadata": {},
     "output_type": "execute_result"
    },
    {
     "data": {
      "image/png": "[encoded data removed]",
      "text/plain": [
       "<Figure size 1152x576 with 1 Axes>"
      ]
     },
     "metadata": {
      "needs_background": "light"
     },
     "output_type": "display_data"
    }
   ],
   "source": [
    "import matplotlib.pyplot as plt\n",
    "import numpy as np\n",
    "%matplotlib inline\n",
    "\n",
    "plt.figure(figsize=(16,8))\n",
    "plt.plot(K, inertia, 'bx-')\n",
    "plt.xlabel('k')\n",
    "plt.ylabel('inertia')\n",
    "plt.xticks(np.arange(min(K), max(K)+1, 1.0))\n",
    "plt.title('Elbow Method showing the optimal k')"
   ]
  },
  {
   "cell_type": "code",
   "execution_count": 23,
   "metadata": {},
   "outputs": [
    {
     "data": {
      "text/plain": [
       "[0.1873283867747703,\n",
       " 0.18770622789042607,\n",
       " 0.183544102931318,\n",
       " 0.18420583868361065,\n",
       " 0.17601683457875342,\n",
       " 0.17355244994349903,\n",
       " 0.17532823075314077,\n",
       " 0.1737362019167863,\n",
       " 0.17113497656843937,\n",
       " 0.1719261802571527,\n",
       " 0.16195700364521606,\n",
       " 0.16133382073369726,\n",
       " 0.1610649943825901,\n",
       " 0.16519512420480525,\n",
       " 0.16409106156966213,\n",
       " 0.162837256089756]"
      ]
     },
     "execution_count": 23,
     "metadata": {},
     "output_type": "execute_result"
    }
   ],
   "source": [
    "from sklearn.metrics import silhouette_score\n",
    "\n",
    "# repeat the same process, now with the silhouette score\n",
    "K = range(4, 20)\n",
    "\n",
    "silhouette = []\n",
    "for k in K:\n",
    "    kmeans = KMeans(n_clusters=k, random_state=1234)\n",
    "    kmeans.fit(data_scaled)\n",
    "    silhouette.append(silhouette_score(data_scaled, kmeans.predict(data_scaled)))\n",
    "    \n",
    "silhouette\n"
   ]
  },
  {
   "cell_type": "code",
   "execution_count": 26,
   "metadata": {},
   "outputs": [
    {
     "data": {
      "text/plain": [
       "Text(0.5, 1.0, 'Elbow Method showing the optimal k')"
      ]
     },
     "execution_count": 26,
     "metadata": {},
     "output_type": "execute_result"
    },
    {
     "data": {
      "image/png": "[encoded data removed]",
      "text/plain": [
       "<Figure size 1152x576 with 1 Axes>"
      ]
     },
     "metadata": {
      "needs_background": "light"
     },
     "output_type": "display_data"
    }
   ],
   "source": [
    "plt.figure(figsize=(16,8))\n",
    "plt.plot(K, silhouette, 'bx-')\n",
    "plt.xlabel('k')\n",
    "plt.ylabel('silhouette score')\n",
    "plt.xticks(np.arange(min(K), max(K)+1, 1.0))\n",
    "plt.title('Elbow Method showing the optimal k')"
   ]
  },
  {
   "cell_type": "markdown",
   "metadata": {
    "heading_collapsed": true
   },
   "source": [
    "## Attemp"
   ]
  },
  {
   "cell_type": "code",
   "execution_count": 49,
   "metadata": {
    "hidden": true
   },
   "outputs": [],
   "source": [
    "def get_features_song_user():\n",
    "    \n",
    "    user_song = str(input(\"Posa una canço: \")).title()\n",
    "    \n",
    "    song = sp.search(user_song)\n",
    "    \n",
    "    user_song_uri = song[\"tracks\"][\"items\"][0][\"uri\"]\n",
    "    \n",
    "    user_song_features = sp.audio_features(user_song_uri)[0]\n",
    "    \n",
    "    return pd.DataFrame({\"danceability\" : user_song_features[\"danceability\"],\n",
    "                        \"energy\" : user_song_features[\"energy\"],\n",
    "                        \"loudness\": user_song_features[\"loudness\"],\n",
    "                        \"speechiness\": user_song_features[\"speechiness\"],\n",
    "                        \"acousticness\": user_song_features[\"acousticness\"],\n",
    "                        \"instrumentalness\": user_song_features[\"instrumentalness\"],\n",
    "                        \"valence\": user_song_features[\"valence\"]},index = [0])"
   ]
  },
  {
   "cell_type": "code",
   "execution_count": 50,
   "metadata": {
    "hidden": true
   },
   "outputs": [
    {
     "name": "stdout",
     "output_type": "stream",
     "text": [
      "Posa una canço: Billie Jean\n"
     ]
    }
   ],
   "source": [
    "df_new_song = get_features_song_user()"
   ]
  },
  {
   "cell_type": "code",
   "execution_count": 51,
   "metadata": {
    "hidden": true
   },
   "outputs": [
    {
     "data": {
      "text/html": [
       "<div>\n",
       "<style scoped>\n",
       "    .dataframe tbody tr th:only-of-type {\n",
       "        vertical-align: middle;\n",
       "    }\n",
       "\n",
       "    .dataframe tbody tr th {\n",
       "        vertical-align: top;\n",
       "    }\n",
       "\n",
       "    .dataframe thead th {\n",
       "        text-align: right;\n",
       "    }\n",
       "</style>\n",
       "<table border=\"1\" class=\"dataframe\">\n",
       "  <thead>\n",
       "    <tr style=\"text-align: right;\">\n",
       "      <th></th>\n",
       "      <th>danceability</th>\n",
       "      <th>energy</th>\n",
       "      <th>loudness</th>\n",
       "      <th>speechiness</th>\n",
       "      <th>acousticness</th>\n",
       "      <th>instrumentalness</th>\n",
       "      <th>valence</th>\n",
       "    </tr>\n",
       "  </thead>\n",
       "  <tbody>\n",
       "    <tr>\n",
       "      <th>0</th>\n",
       "      <td>0.92</td>\n",
       "      <td>0.654</td>\n",
       "      <td>-3.051</td>\n",
       "      <td>0.0401</td>\n",
       "      <td>0.0236</td>\n",
       "      <td>0.0158</td>\n",
       "      <td>0.847</td>\n",
       "    </tr>\n",
       "  </tbody>\n",
       "</table>\n",
       "</div>"
      ],
      "text/plain": [
       "   danceability  energy  loudness  speechiness  acousticness  \\\n",
       "0          0.92   0.654    -3.051       0.0401        0.0236   \n",
       "\n",
       "   instrumentalness  valence  \n",
       "0            0.0158    0.847  "
      ]
     },
     "execution_count": 51,
     "metadata": {},
     "output_type": "execute_result"
    }
   ],
   "source": [
    "df_new_song"
   ]
  },
  {
   "cell_type": "code",
   "execution_count": 52,
   "metadata": {
    "hidden": true
   },
   "outputs": [],
   "source": [
    "import pickle\n",
    "\n",
    "pickle.dump(scaler,open(\"scaler_1.pkl\",\"wb\"))\n",
    "pickle.dump(kmeans, open(\"KMeans_1.pkl\",\"wb\"))"
   ]
  },
  {
   "cell_type": "code",
   "execution_count": 53,
   "metadata": {
    "hidden": true
   },
   "outputs": [
    {
     "data": {
      "text/plain": [
       "array([[-0.11138345, -2.03981514, -2.19862111, ...,  2.30401531,\n",
       "        -1.22818531,  1.73586857],\n",
       "       [ 0.79289613, -1.78895584, -2.14981246, ...,  1.20714921,\n",
       "        -1.71916225, -1.31079751],\n",
       "       [ 0.44560035, -0.64158297, -0.86195398, ...,  1.9436616 ,\n",
       "        -0.61702771, -1.24069282],\n",
       "       ...,\n",
       "       [-0.62249799,  0.99928362,  0.95298479, ...,  0.3600019 ,\n",
       "        -1.50710287, -0.9663582 ],\n",
       "       [-1.50711932, -0.7567315 , -0.63064346, ...,  1.79193373,\n",
       "        -1.85574982,  2.68910105],\n",
       "       [ 1.55956795,  0.15211941,  0.65164447, ...,  2.11119447,\n",
       "         0.23203015,  0.16153787]])"
      ]
     },
     "execution_count": 53,
     "metadata": {},
     "output_type": "execute_result"
    }
   ],
   "source": [
    "data_scaled = scaler.fit_transform(data_only_features)\n",
    "\n",
    "data_scaled"
   ]
  },
  {
   "cell_type": "code",
   "execution_count": null,
   "metadata": {
    "hidden": true
   },
   "outputs": [],
   "source": []
  }
 ],
 "metadata": {
  "kernelspec": {
   "display_name": "Python 3",
   "language": "python",
   "name": "python3"
  },
  "language_info": {
   "codemirror_mode": {
    "name": "ipython",
    "version": 3
   },
   "file_extension": ".py",
   "mimetype": "text/x-python",
   "name": "python",
   "nbconvert_exporter": "python",
   "pygments_lexer": "ipython3",
   "version": "3.8.5"
  },
  "toc": {
   "base_numbering": 1,
   "nav_menu": {},
   "number_sections": true,
   "sideBar": true,
   "skip_h1_title": false,
   "title_cell": "Table of Contents",
   "title_sidebar": "Contents",
   "toc_cell": false,
   "toc_position": {},
   "toc_section_display": true,
   "toc_window_display": false
  },
  "varInspector": {
   "cols": {
    "lenName": 16,
    "lenType": 16,
    "lenVar": 40
   },
   "kernels_config": {
    "python": {
     "delete_cmd_postfix": "",
     "delete_cmd_prefix": "del ",
     "library": "var_list.py",
     "varRefreshCmd": "print(var_dic_list())"
    },
    "r": {
     "delete_cmd_postfix": ") ",
     "delete_cmd_prefix": "rm(",
     "library": "var_list.r",
     "varRefreshCmd": "cat(var_dic_list()) "
    }
   },
   "position": {
    "height": "580.724px",
    "left": "1375.45px",
    "right": "20px",
    "top": "120px",
    "width": "350px"
   },
   "types_to_exclude": [
    "module",
    "function",
    "builtin_function_or_method",
    "instance",
    "_Feature"
   ],
   "window_display": false
  }
 },
 "nbformat": 4,
 "nbformat_minor": 4
}
